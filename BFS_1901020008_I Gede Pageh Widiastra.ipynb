{
 "cells": [
  {
   "cell_type": "code",
   "execution_count": 1,
   "id": "59303c74",
   "metadata": {},
   "outputs": [],
   "source": [
    "graph = {\n",
    "    '1':['4','2'],\n",
    "    '4':['3'],\n",
    "    '2':['8', '7','5'],\n",
    "    '3':['10','9'],\n",
    "    '8':[],\n",
    "    '7':[],\n",
    "    '5':['6'],\n",
    "    '10':[],\n",
    "    '9':[],\n",
    "    '6':[],\n",
    "}"
   ]
  },
  {
   "cell_type": "code",
   "execution_count": 2,
   "id": "4906735d",
   "metadata": {},
   "outputs": [],
   "source": [
    "visited = []\n",
    "queue = []"
   ]
  },
  {
   "cell_type": "code",
   "execution_count": 3,
   "id": "09b4981a",
   "metadata": {},
   "outputs": [],
   "source": [
    "def bfs (visited, graph, node):\n",
    "    visited.append (node)\n",
    "    queue.append (node)"
   ]
  },
  {
   "cell_type": "code",
   "execution_count": 4,
   "id": "a77ab4e7",
   "metadata": {},
   "outputs": [],
   "source": [
    "bfs (visited, graph, \"1\")"
   ]
  },
  {
   "cell_type": "code",
   "execution_count": 5,
   "id": "8c830692",
   "metadata": {},
   "outputs": [
    {
     "name": "stdout",
     "output_type": "stream",
     "text": [
      "1 "
     ]
    }
   ],
   "source": [
    "while queue:\n",
    "    s = queue.pop(0)\n",
    "    print (s, end = \" \")"
   ]
  },
  {
   "cell_type": "code",
   "execution_count": 6,
   "id": "6c63b27c",
   "metadata": {},
   "outputs": [
    {
     "name": "stdout",
     "output_type": "stream",
     "text": [
      "1\n",
      "4\n",
      "2\n",
      "3\n",
      "8\n",
      "7\n",
      "5\n",
      "10\n",
      "9\n",
      "6\n"
     ]
    }
   ],
   "source": [
    "for neighbour in graph :\n",
    "    print (neighbour)\n",
    "    if neighbour not in visited:\n",
    "        visited.append(neighbour)\n",
    "        queue.append(neighbour)"
   ]
  },
  {
   "cell_type": "code",
   "execution_count": null,
   "id": "6da2a6d2",
   "metadata": {},
   "outputs": [],
   "source": []
  }
 ],
 "metadata": {
  "kernelspec": {
   "display_name": "Python 3 (ipykernel)",
   "language": "python",
   "name": "python3"
  },
  "language_info": {
   "codemirror_mode": {
    "name": "ipython",
    "version": 3
   },
   "file_extension": ".py",
   "mimetype": "text/x-python",
   "name": "python",
   "nbconvert_exporter": "python",
   "pygments_lexer": "ipython3",
   "version": "3.9.7"
  }
 },
 "nbformat": 4,
 "nbformat_minor": 5
}
