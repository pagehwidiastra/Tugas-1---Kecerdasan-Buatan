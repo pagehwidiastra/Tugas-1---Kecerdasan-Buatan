{
 "cells": [
  {
   "cell_type": "code",
   "execution_count": 2,
   "id": "275425dc",
   "metadata": {},
   "outputs": [],
   "source": [
    "graph = {\n",
    "    '1' : ['4'],\n",
    "    '4' : ['3'],\n",
    "    '3' : ['10', '9', '2'],\n",
    "    '10': [],\n",
    "    '9' : [],\n",
    "    '2' : ['8'],\n",
    "    '8' : ['7'],\n",
    "    '7' : ['5'],\n",
    "    '5' : ['6'],\n",
    "    '6' : [],\n",
    "}"
   ]
  },
  {
   "cell_type": "code",
   "execution_count": 3,
   "id": "9af1d458",
   "metadata": {},
   "outputs": [],
   "source": [
    "visited = set ()"
   ]
  },
  {
   "cell_type": "code",
   "execution_count": 4,
   "id": "3eb15aec",
   "metadata": {},
   "outputs": [],
   "source": [
    "def dfs (visited, graph, node):\n",
    "    if node not in visited:\n",
    "        print (node)\n",
    "        visited.add(node)\n",
    "        for neighbour in graph[node]:\n",
    "            dfs(visited, graph, neighbour)"
   ]
  },
  {
   "cell_type": "code",
   "execution_count": 5,
   "id": "ea7f5275",
   "metadata": {},
   "outputs": [
    {
     "name": "stdout",
     "output_type": "stream",
     "text": [
      "1\n",
      "4\n",
      "3\n",
      "10\n",
      "9\n",
      "2\n",
      "8\n",
      "7\n",
      "5\n",
      "6\n"
     ]
    }
   ],
   "source": [
    "dfs(visited, graph, '1')"
   ]
  },
  {
   "cell_type": "code",
   "execution_count": null,
   "id": "0c83ac29",
   "metadata": {},
   "outputs": [],
   "source": []
  }
 ],
 "metadata": {
  "kernelspec": {
   "display_name": "Python 3 (ipykernel)",
   "language": "python",
   "name": "python3"
  },
  "language_info": {
   "codemirror_mode": {
    "name": "ipython",
    "version": 3
   },
   "file_extension": ".py",
   "mimetype": "text/x-python",
   "name": "python",
   "nbconvert_exporter": "python",
   "pygments_lexer": "ipython3",
   "version": "3.9.7"
  }
 },
 "nbformat": 4,
 "nbformat_minor": 5
}
